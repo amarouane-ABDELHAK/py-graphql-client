{
 "cells": [
  {
   "cell_type": "code",
   "execution_count": 1,
   "id": "voluntary-retrieval",
   "metadata": {},
   "outputs": [],
   "source": [
    "import sys\n",
    "from os import path\n",
    "sys.path.insert(0, './..')\n",
    "import main"
   ]
  },
  {
   "cell_type": "markdown",
   "id": "pursuant-conservative",
   "metadata": {},
   "source": [
    "# Query Collections\n",
    "### Here we are trying to get a collection with shortname = `olsana` and we only want its concept_id and granule_count "
   ]
  },
  {
   "cell_type": "code",
   "execution_count": 2,
   "id": "civic-knitting",
   "metadata": {},
   "outputs": [],
   "source": [
    "collection = main.GenerateExecuteQuery(\"collection\",short_name=\"olsana\", fields=[\"concept_id\", \"granule_count\"])"
   ]
  },
  {
   "cell_type": "code",
   "execution_count": 3,
   "id": "positive-configuration",
   "metadata": {},
   "outputs": [
    {
     "data": {
      "text/plain": [
       "{'collection': {'concept_id': 'C1976712047-GHRC_DAAC', 'granule_count': 63}}"
      ]
     },
     "execution_count": 3,
     "metadata": {},
     "output_type": "execute_result"
    }
   ],
   "source": [
    "collection.execute_query()"
   ]
  },
  {
   "cell_type": "markdown",
   "id": "vietnamese-prisoner",
   "metadata": {},
   "source": [
    "### If we want to also get also its processing level and version"
   ]
  },
  {
   "cell_type": "code",
   "execution_count": 4,
   "id": "medical-spyware",
   "metadata": {},
   "outputs": [],
   "source": [
    "fields_toget = [\"concept_id\", \"granule_count\", \"ProcessingLevel\", \"Version\"]\n",
    "collection = main.GenerateExecuteQuery(\"collection\",short_name=\"olsana\", fields=fields_toget)"
   ]
  },
  {
   "cell_type": "code",
   "execution_count": 5,
   "id": "packed-laser",
   "metadata": {},
   "outputs": [
    {
     "data": {
      "text/plain": [
       "{'collection': {'concept_id': 'C1976712047-GHRC_DAAC',\n",
       "  'granule_count': 63,\n",
       "  'ProcessingLevel': '3',\n",
       "  'Version': '1'}}"
      ]
     },
     "execution_count": 5,
     "metadata": {},
     "output_type": "execute_result"
    }
   ],
   "source": [
    "collection.execute_query()"
   ]
  },
  {
   "cell_type": "markdown",
   "id": "assured-presence",
   "metadata": {},
   "source": [
    "### If we want to to get the platform shortname associated with that collection"
   ]
  },
  {
   "cell_type": "code",
   "execution_count": 6,
   "id": "patent-class",
   "metadata": {},
   "outputs": [],
   "source": [
    "platform = main.GenerateExecuteQuery(\"Platforms\", fields=[\"ShortName\"])\n",
    "collection.append_service(platform)"
   ]
  },
  {
   "cell_type": "code",
   "execution_count": 7,
   "id": "mounted-kansas",
   "metadata": {},
   "outputs": [
    {
     "data": {
      "text/plain": [
       "{'collection': {'concept_id': 'C1976712047-GHRC_DAAC',\n",
       "  'granule_count': 63,\n",
       "  'ProcessingLevel': '3',\n",
       "  'Version': '1',\n",
       "  'Platforms': [{'ShortName': 'DMSP 5D-2/F9'},\n",
       "   {'ShortName': 'DMSP 5D-2/F10'},\n",
       "   {'ShortName': 'DMSP 5D-2/F7'},\n",
       "   {'ShortName': 'DMSP 5D-1/F1'},\n",
       "   {'ShortName': 'DMSP 5B/F3'},\n",
       "   {'ShortName': 'DMSP 5D-2/F8'}]}}"
      ]
     },
     "execution_count": 7,
     "metadata": {},
     "output_type": "execute_result"
    }
   ],
   "source": [
    "collection.execute_query()"
   ]
  },
  {
   "cell_type": "markdown",
   "id": "sixth-excess",
   "metadata": {},
   "source": [
    "### If we want to get the instrument used "
   ]
  },
  {
   "cell_type": "code",
   "execution_count": 12,
   "id": "fatal-grain",
   "metadata": {},
   "outputs": [],
   "source": [
    "instrument = main.GenerateExecuteQuery(\"Instruments\", fields=[\"ShortName\"])\n",
    "platform.append_service(instrument)\n",
    "collection.append_service(platform)"
   ]
  },
  {
   "cell_type": "code",
   "execution_count": 13,
   "id": "becoming-poverty",
   "metadata": {},
   "outputs": [
    {
     "data": {
      "text/plain": [
       "{'collection': {'concept_id': 'C1976712047-GHRC_DAAC',\n",
       "  'granule_count': 63,\n",
       "  'ProcessingLevel': '3',\n",
       "  'Version': '1',\n",
       "  'Platforms': [{'ShortName': 'DMSP 5D-2/F9',\n",
       "    'Instruments': [{'ShortName': 'OLS'}]},\n",
       "   {'ShortName': 'DMSP 5D-2/F10', 'Instruments': [{'ShortName': 'OLS'}]},\n",
       "   {'ShortName': 'DMSP 5D-2/F7', 'Instruments': [{'ShortName': 'OLS'}]},\n",
       "   {'ShortName': 'DMSP 5D-1/F1', 'Instruments': [{'ShortName': 'OLS'}]},\n",
       "   {'ShortName': 'DMSP 5B/F3', 'Instruments': [{'ShortName': 'OLS'}]},\n",
       "   {'ShortName': 'DMSP 5D-2/F8', 'Instruments': [{'ShortName': 'OLS'}]}]}}"
      ]
     },
     "execution_count": 13,
     "metadata": {},
     "output_type": "execute_result"
    }
   ],
   "source": [
    "collection.execute_query()"
   ]
  },
  {
   "cell_type": "markdown",
   "id": "forward-ladder",
   "metadata": {},
   "source": [
    "### If we want to get 4 granules links associated of that collection"
   ]
  },
  {
   "cell_type": "code",
   "execution_count": 14,
   "id": "potential-break",
   "metadata": {},
   "outputs": [],
   "source": [
    "granules = main.GenerateExecuteQuery(\"granules\",page_size=\"4\", fields=[\"download_link\"])\n",
    "collection.append_service(granules)"
   ]
  },
  {
   "cell_type": "code",
   "execution_count": 15,
   "id": "split-screening",
   "metadata": {},
   "outputs": [
    {
     "data": {
      "text/plain": [
       "{'collection': {'concept_id': 'C1976712047-GHRC_DAAC',\n",
       "  'granule_count': 63,\n",
       "  'ProcessingLevel': '3',\n",
       "  'Version': '1',\n",
       "  'Platforms': [{'ShortName': 'DMSP 5D-2/F9',\n",
       "    'Instruments': [{'ShortName': 'OLS'}]},\n",
       "   {'ShortName': 'DMSP 5D-2/F10', 'Instruments': [{'ShortName': 'OLS'}]},\n",
       "   {'ShortName': 'DMSP 5D-2/F7', 'Instruments': [{'ShortName': 'OLS'}]},\n",
       "   {'ShortName': 'DMSP 5D-1/F1', 'Instruments': [{'ShortName': 'OLS'}]},\n",
       "   {'ShortName': 'DMSP 5B/F3', 'Instruments': [{'ShortName': 'OLS'}]},\n",
       "   {'ShortName': 'DMSP 5D-2/F8', 'Instruments': [{'ShortName': 'OLS'}]}],\n",
       "  'granules': [{'download_link': 'https://data.ghrc.earthdata.nasa.gov/ghrcw-protected/olsana__1/olslit73.jun_analog.hdf'},\n",
       "   {'download_link': 'https://data.ghrc.earthdata.nasa.gov/ghrcw-protected/olsana__1/olslit73.jul_analog.hdf'},\n",
       "   {'download_link': 'https://data.ghrc.earthdata.nasa.gov/ghrcw-protected/olsana__1/olslit77.sep_analog.hdf'},\n",
       "   {'download_link': 'https://data.ghrc.earthdata.nasa.gov/ghrcw-protected/olsana__1/olslit77.oct_analog.hdf'}]}}"
      ]
     },
     "execution_count": 15,
     "metadata": {},
     "output_type": "execute_result"
    }
   ],
   "source": [
    "collection.execute_query()"
   ]
  },
  {
   "cell_type": "markdown",
   "id": "adjusted-institute",
   "metadata": {},
   "source": [
    "### If we want to download these granules to a folder /tmp/olsana"
   ]
  },
  {
   "cell_type": "code",
   "execution_count": 16,
   "id": "verified-fleet",
   "metadata": {},
   "outputs": [
    {
     "name": "stdout",
     "output_type": "stream",
     "text": [
      "Downloading olslit73.jun_analog.hdf to /tmp/olsana\n",
      "Downloading olslit73.jul_analog.hdf to /tmp/olsana\n",
      "Downloading olslit77.sep_analog.hdf to /tmp/olsana\n",
      "Downloading olslit77.oct_analog.hdf to /tmp/olsana\n"
     ]
    }
   ],
   "source": [
    "collection.download_granules(dest_path=\"/tmp/olsana\")"
   ]
  },
  {
   "cell_type": "code",
   "execution_count": 17,
   "id": "flush-colleague",
   "metadata": {},
   "outputs": [
    {
     "name": "stdout",
     "output_type": "stream",
     "text": [
      "total 5648\r\n",
      "drwxr-xr-x   6 amarouane  wheel      192 Jul  1 15:36 \u001b[1m\u001b[36m.\u001b[m\u001b[m/\r\n",
      "drwxrwxrwt  20 root       wheel      640 Jul  1 15:35 \u001b[30m\u001b[42m..\u001b[m\u001b[m/\r\n",
      "-rw-r--r--   1 amarouane  wheel  1082503 Jul  1 15:36 olslit73.jul_analog.hdf\r\n",
      "-rw-r--r--   1 amarouane  wheel   997686 Jul  1 15:36 olslit73.jun_analog.hdf\r\n",
      "-rw-r--r--   1 amarouane  wheel   404081 Jul  1 15:36 olslit77.oct_analog.hdf\r\n",
      "-rw-r--r--   1 amarouane  wheel   401009 Jul  1 15:36 olslit77.sep_analog.hdf\r\n"
     ]
    }
   ],
   "source": [
    "ls -al /tmp/olsana/"
   ]
  },
  {
   "cell_type": "code",
   "execution_count": null,
   "id": "hispanic-skirt",
   "metadata": {},
   "outputs": [],
   "source": []
  }
 ],
 "metadata": {
  "kernelspec": {
   "display_name": "Python 3",
   "language": "python",
   "name": "python3"
  },
  "language_info": {
   "codemirror_mode": {
    "name": "ipython",
    "version": 3
   },
   "file_extension": ".py",
   "mimetype": "text/x-python",
   "name": "python",
   "nbconvert_exporter": "python",
   "pygments_lexer": "ipython3",
   "version": "3.8.5"
  }
 },
 "nbformat": 4,
 "nbformat_minor": 5
}
